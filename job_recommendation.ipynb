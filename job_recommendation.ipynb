{
  "cells": [
    {
      "cell_type": "markdown",
      "metadata": {
        "id": "UkHnWnjOr7E4"
      },
      "source": [
        "#Using the Glove embedding df data sets...\n",
        "##next steps\n",
        "\n",
        "\n",
        "###-> extract text from pdf\n",
        "\n",
        "###-> parse the cleaaned_text from resume with help of API enddpoint (Mistral AI)\n",
        "\n",
        "###->storing skills, exp, yers of exp, previous job titles and doing similar embedding\n",
        "\n",
        "###-> cosine similarity and recommendation"
      ]
    },
    {
      "cell_type": "code",
      "execution_count": null,
      "metadata": {
        "id": "q71QJX2Er6SK"
      },
      "outputs": [],
      "source": []
    },
    {
      "cell_type": "code",
      "execution_count": null,
      "metadata": {
        "colab": {
          "base_uri": "https://localhost:8080/"
        },
        "id": "KCrMMTZaJS8k",
        "outputId": "9239480b-b4e6-46a0-876b-0122d5b613f4"
      },
      "outputs": [
        {
          "name": "stdout",
          "output_type": "stream",
          "text": [
            "Index(['qualifications', 'location', 'country', 'work type', 'preference',\n",
            "       'job title', 'role', 'job description', 'benefits', 'skills',\n",
            "       'responsibilities', 'company', 'min_salary', 'max_salary',\n",
            "       'min_experience', 'max_experience', 'combined_text', 'glove_embedding'],\n",
            "      dtype='object')\n"
          ]
        }
      ],
      "source": [
        "print(df.columns)\n"
      ]
    },
    {
      "cell_type": "code",
      "execution_count": null,
      "metadata": {
        "id": "p9FS-iA-d2a-"
      },
      "outputs": [],
      "source": [
        "#save the df as job_ebmedding.csv and aslosave it in my google drive\n",
        "df.to_csv('job_ebmedding.csv', index=False)"
      ]
    },
    {
      "cell_type": "code",
      "execution_count": null,
      "metadata": {
        "colab": {
          "base_uri": "https://localhost:8080/"
        },
        "id": "-vVXxRjEJkHp",
        "outputId": "e7f26970-d14a-4006-e723-6bce71058c6e"
      },
      "outputs": [
        {
          "name": "stdout",
          "output_type": "stream",
          "text": [
            "<class 'numpy.ndarray'>\n",
            "100\n"
          ]
        }
      ],
      "source": [
        "print(type(df['glove_embedding'][0]))\n",
        "print(len(df['glove_embedding'][0]))  # Check the size of the embedding\n"
      ]
    },
    {
      "cell_type": "markdown",
      "metadata": {
        "id": "JtzrzFsFKDYl"
      },
      "source": [
        "## Combine Embeddings into a Feature Matrix"
      ]
    },
    {
      "cell_type": "code",
      "execution_count": null,
      "metadata": {
        "colab": {
          "base_uri": "https://localhost:8080/"
        },
        "id": "pF0O9pK0KGCK",
        "outputId": "5a0521e9-9faa-424e-c996-a9fc5b0773bd"
      },
      "outputs": [
        {
          "name": "stdout",
          "output_type": "stream",
          "text": [
            "Text Embeddings Shape: (1615940, 100)\n"
          ]
        }
      ],
      "source": [
        "# Extract GloVe embeddings as features\n",
        "text_embeddings = np.stack(df['glove_embedding'])\n",
        "\n",
        "# Check the shape\n",
        "print(\"Text Embeddings Shape:\", text_embeddings.shape)\n"
      ]
    },
    {
      "cell_type": "markdown",
      "metadata": {
        "id": "6gIo0MV7KMak"
      },
      "source": [
        "## Define Labels"
      ]
    },
    {
      "cell_type": "code",
      "execution_count": null,
      "metadata": {
        "colab": {
          "base_uri": "https://localhost:8080/"
        },
        "id": "sY3J2s5pKOtj",
        "outputId": "c3457070-78e5-4341-cf7a-c9a7e2d90f31"
      },
      "outputs": [
        {
          "name": "stdout",
          "output_type": "stream",
          "text": [
            "Number of Classes: 147\n"
          ]
        }
      ],
      "source": [
        "from sklearn.preprocessing import LabelEncoder\n",
        "\n",
        "# Encode job titles\n",
        "label_encoder = LabelEncoder()\n",
        "df['job_title_encoded'] = label_encoder.fit_transform(df['job title'])\n",
        "\n",
        "# Verify encoding\n",
        "print(\"Number of Classes:\", len(label_encoder.classes_))\n"
      ]
    },
    {
      "cell_type": "code",
      "execution_count": null,
      "metadata": {
        "id": "kEkNOyRT83BJ"
      },
      "outputs": [],
      "source": [
        "#resume upload and extraction of text\n",
        "!pip install pymupdf scikit-learn openai numpy pandas --quiet\n"
      ]
    },
    {
      "cell_type": "code",
      "execution_count": null,
      "metadata": {
        "colab": {
          "base_uri": "https://localhost:8080/"
        },
        "id": "eWjmJDI1866n",
        "outputId": "e9a75b80-679b-491d-e3f7-142784ae961e"
      },
      "outputs": [
        {
          "name": "stdout",
          "output_type": "stream",
          "text": [
            "SEHAJBIR SINGH \n",
            "416-890-6049 | sehaj12.12.2000@gmail.com | Toronto, ON | Linkedin.com/in/sehajbir-singh-542b34207 | Github.com/sehajbirsingh  \n",
            "SKILLS \n",
            " \n",
            "Programming Languages: Python, SQL, Java, C# \n",
            " \n",
            "Data Engineering: Matillion, DBT, Airflow, Hadoop, Spark    \n",
            " \n",
            "Data Warehousing and Databases: Snowflake, SQL \n",
            "Server, MySQL PostgreSQL, Database Staging \n",
            " \n",
            "DevOps & Version Control: Docker, Kubernetes, Jenkins, \n",
            "Git, GitHub\n",
            " \n",
            "Data Science & Machine Learning: Pandas, NumPy, \n",
            "SciPy, Scikit-learn, TensorFlow, PyTorch\n",
            " \n",
            "Data Visualization & Business Intelligence: Tableau, \n",
            "PowerBI, Plotly, Seaborn\n",
            " \n",
            "Web Development: Flask, React, Node, HTML, CSS \n",
            " \n",
            "Agile Frameworks: Jira,Scrum, Kanban, Lean \n",
            "EXPERIENCE \n",
            "CLOUDEQS | REMOTE  \n",
            "ASSOCIATE DATA ENGINEER | AUG, 2023 – JULY, 2024 \n",
            " \n",
            "Led the end-to-end implementation of ETL/ELT processes using Matillion and DBT, incorporating data modeling strategies to \n",
            "optimize data flow and storage, achieving a 30% boost in processing efficiency and a 25% reduction in latency. \n",
            " \n",
            "Migrated of 100% of data from NetSuite to D365 system for Peet’s Coffee within 6 weeks; helped optimize BYODB to Azure \n",
            "Data Lake Storage (ADLS), cutting costs by 20%. \n",
            " \n",
            "Automated data archiving and testing with Python and SQL Server, reducing manual effort by 80%. \n",
            " \n",
            "Spearheaded the end-to-end migration of $10M+ in AR/AP invoices for Peet's Coffee to a new cloud environment, utilizing SQL \n",
            "performance optimization to ensure data integrity and seamless reporting. \n",
            " \n",
            "Migrated HIPAA-compliant SAP BOBJ reports from SQL Server to Snowflake for Delta Dental, integrating SAP with Snowflake.. \n",
            " \n",
            "Developed a Snowflake version control dashboard using Streamlit, collaborating with data engineers to optimize scheduling \n",
            "and monitor ETL workflows in Matillion, resulting in a 30% reduction in data delivery latency and improved operational \n",
            "transparency. \n",
            "Tech Stack: Matillion, DBT, Snowflake, AWS, Python, SQL Server, NetSuite, D365, ADLS, SnowSQL, streamlit, Jira, Azure DevOps \n",
            "ASG TECHNOLOGIES | REMOTE  \n",
            "CLOUD ANALYST | Aug, 2022 – JUNE, 2023 \n",
            " \n",
            "Created sales KPIs and streamlined data migration with SQL, Python, and DAGs, increasing efficiency by 70%. Also maintained \n",
            "Auto-Audits in Excel using VBA, enhancing data accuracy and reducing manual error rates. \n",
            " \n",
            "Designed and implemented ETL routines for Snowflake using Python, integrating Apache Spark, PySpark, and Airflow to \n",
            "enhance big data processing and monitoring efficiency by 60%, while improving overall system scalability. \n",
            " \n",
            "Optimized data pipelines on Azure and Snowflake, cutting data retrieval time in half, with a focus on SQL performance tuning \n",
            "and root cause analysis of failures. \n",
            " \n",
            "Integrated Snowflake with various data sources, including Azure Blob Storage, utilizing internal/external staging and loading \n",
            "options to enhance data storage solutions and facilitate data modeling initiatives. \n",
            "Tech Stack: SQL, Python, DAGs, VBA, Azure, Snowflake, Hadoop, Spark, Airflow, Data Staging \n",
            "PROJECT & ACHIEVEMENTS \n",
            "SPOTIFY DATA PIPELINE:  \n",
            " \n",
            " \n",
            " \n",
            " \n",
            " \n",
            " \n",
            "[github.com/Sehajbirsingh/Spotify-Data-Pipeline] \n",
            " \n",
            "Designed and deployed a scalable data pipeline integrating Spotify API data using Apache Spark, AWS Glue, and Airflow.  \n",
            " \n",
            "Automated data quality checks, improving accuracy by 40% and reducing retrieval time. \n",
            " \n",
            "Implemented end-to-end ETL processes, including data cleaning, transformation, and scheduling, to enable insightful user \n",
            "behavior analysis and trend monitoring. \n",
            "SQL CONVERSION TOOL:  \n",
            " \n",
            "Developed an accelerator tool that streamlined the migration process for over 500 SQL scripts to Snowflake from SQL-Server, \n",
            "reducing conversion time by 90% and greatly improving team efficiency. \n",
            "EDUCATION & CERTIFICATES \n",
            " \n",
            "POST GRAD CERTIFICATE IN APPLIED A.I. SOLUTIONS | AUG, 2025  [Part-Time online]                           George Brown College | Toronto, ON \n",
            "[Specialized in full-stack data science, Big Data, AI, and machine learning]                                                 \n",
            " \n",
            "BACHELORS IN COMPUTER SCIENCE ENGINEERING | JULY, 2023                                                   Punjab Technical University | Punjab, India \n",
            "[Focused on Programming, Algorithms, System Design and Software Development]                                                  \n",
            " \n",
            "AWS Certified Developer Associate (DVA-C02),2023 \n",
            " \n",
            "Azure Data Scientist Associate (DP-100),2021 \n",
            "\n"
          ]
        }
      ],
      "source": [
        "import fitz  # PyMuPDF\n",
        "\n",
        "def extract_full_text_from_pdf(pdf_path):\n",
        "    \"\"\"Extracts full text from a PDF without any truncation.\"\"\"\n",
        "    doc = fitz.open(pdf_path)\n",
        "    full_text = \"\\n\".join(page.get_text(\"text\") for page in doc)\n",
        "    return full_text\n",
        "\n",
        "# Example usage\n",
        "pdf_path = \"Resume.pdf\"  # Replace with the actual file path\n",
        "resume_text = extract_full_text_from_pdf(pdf_path)\n",
        "\n",
        "print(resume_text)  # Print full resume text (optional)\n",
        "\n"
      ]
    },
    {
      "cell_type": "code",
      "execution_count": null,
      "metadata": {
        "id": "WVdyfgH8ImXW"
      },
      "outputs": [],
      "source": [
        "!pip install langchain_huggingface --quiet"
      ]
    },
    {
      "cell_type": "code",
      "execution_count": null,
      "metadata": {
        "id": "XkaP84sSPLWt"
      },
      "outputs": [],
      "source": [
        "!pip install openai --quiet"
      ]
    },
    {
      "cell_type": "code",
      "execution_count": null,
      "metadata": {
        "colab": {
          "base_uri": "https://localhost:8080/"
        },
        "id": "3jwiRO7DOgOK",
        "outputId": "a924fbeb-5ade-4d5c-aee9-778c0a743fde"
      },
      "outputs": [
        {
          "name": "stdout",
          "output_type": "stream",
          "text": [
            "SEHAJBIR SINGH 416-890-6049 | sehaj12.12.2000@gmail.com | Toronto, ON | Linkedin.cominsehajbir-singh-542b34207 | Github.comsehajbirsingh SKILLS  Programming Languages Python, SQL, Java, C  Data Engineering Matillion, DBT, Airflow, Hadoop, Spark  Data Warehousing and Databases Snowflake, SQL Server, MySQL PostgreSQL, Database Staging  DevOps  Version Control Docker, Kubernetes, Jenkins, Git, GitHub  Data Science  Machine Learning Pandas, NumPy, SciPy, Scikit-learn, TensorFlow, PyTorch  Data Visualization  Business Intelligence Tableau, PowerBI, Plotly, Seaborn  Web Development Flask, React, Node, HTML, CSS  Agile Frameworks Jira,Scrum, Kanban, Lean EXPERIENCE CLOUDEQS | REMOTE ASSOCIATE DATA ENGINEER | AUG, 2023  JULY, 2024  Led the end-to-end implementation of ETLELT processes using Matillion and DBT, incorporating data modeling strategies to optimize data flow and storage, achieving a 30 boost in processing efficiency and a 25 reduction in latency.  Migrated of 100 of data from NetSuite to D365 system for Peets Coffee within 6 weeks helped optimize BYODB to Azure Data Lake Storage ADLS, cutting costs by 20.  Automated data archiving and testing with Python and SQL Server, reducing manual effort by 80.  Spearheaded the end-to-end migration of 10M in ARAP invoices for Peets Coffee to a new cloud environment, utilizing SQL performance optimization to ensure data integrity and seamless reporting.  Migrated HIPAA-compliant SAP BOBJ reports from SQL Server to Snowflake for Delta Dental, integrating SAP with Snowflake..  Developed a Snowflake version control dashboard using Streamlit, collaborating with data engineers to optimize scheduling and monitor ETL workflows in Matillion, resulting in a 30 reduction in data delivery latency and improved operational transparency. Tech Stack Matillion, DBT, Snowflake, AWS, Python, SQL Server, NetSuite, D365, ADLS, SnowSQL, streamlit, Jira, Azure DevOps ASG TECHNOLOGIES | REMOTE CLOUD ANALYST | Aug, 2022  JUNE, 2023  Created sales KPIs and streamlined data migration with SQL, Python, and DAGs, increasing efficiency by 70. Also maintained Auto-Audits in Excel using VBA, enhancing data accuracy and reducing manual error rates.  Designed and implemented ETL routines for Snowflake using Python, integrating Apache Spark, PySpark, and Airflow to enhance big data processing and monitoring efficiency by 60, while improving overall system scalability.  Optimized data pipelines on Azure and Snowflake, cutting data retrieval time in half, with a focus on SQL performance tuning and root cause analysis of failures.  Integrated Snowflake with various data sources, including Azure Blob Storage, utilizing internalexternal staging and loading options to enhance data storage solutions and facilitate data modeling initiatives. Tech Stack SQL, Python, DAGs, VBA, Azure, Snowflake, Hadoop, Spark, Airflow, Data Staging PROJECT  ACHIEVEMENTS SPOTIFY DATA PIPELINE github.comSehajbirsinghSpotify-Data-Pipeline  Designed and deployed a scalable data pipeline integrating Spotify API data using Apache Spark, AWS Glue, and Airflow.  Automated data quality checks, improving accuracy by 40 and reducing retrieval time.  Implemented end-to-end ETL processes, including data cleaning, transformation, and scheduling, to enable insightful user behavior analysis and trend monitoring. SQL CONVERSION TOOL  Developed an accelerator tool that streamlined the migration process for over 500 SQL scripts to Snowflake from SQL-Server, reducing conversion time by 90 and greatly improving team efficiency. EDUCATION  CERTIFICATES  POST GRAD CERTIFICATE IN APPLIED A.I. SOLUTIONS | AUG, 2025 Part-Time online George Brown College | Toronto, ON Specialized in full-stack data science, Big Data, AI, and machine learning  BACHELORS IN COMPUTER SCIENCE ENGINEERING | JULY, 2023 Punjab Technical University | Punjab, India Focused on Programming, Algorithms, System Design and Software Development  AWS Certified Developer Associate DVA-C02,2023  Azure Data Scientist Associate DP-100,2021\n"
          ]
        }
      ],
      "source": [
        "import re\n",
        "\n",
        "def clean_resume_text(resume_text):\n",
        "    \"\"\"Preprocess and optimize extracted resume text.\"\"\"\n",
        "    # Remove multiple spaces and special symbols\n",
        "    resume_text = re.sub(r'\\s+', ' ', resume_text)  # Replace multiple spaces/newlines with single space\n",
        "    resume_text = re.sub(r'[^a-zA-Z0-9,.@|\\s-]', '', resume_text)  # Remove non-ASCII characters\n",
        "    resume_text = resume_text.strip()\n",
        "    return resume_text\n",
        "\n",
        "# Clean the extracted resume text\n",
        "cleaned_resume = clean_resume_text(resume_text)\n",
        "\n",
        "print(cleaned_resume)  # Check cleaned text before sending to Mistral\n"
      ]
    },
    {
      "cell_type": "code",
      "execution_count": null,
      "metadata": {
        "colab": {
          "base_uri": "https://localhost:8080/"
        },
        "id": "ea4f2h2nPchI",
        "outputId": "a75f9db7-ffc0-464e-97d7-94807dfad3b5"
      },
      "outputs": [
        {
          "name": "stdout",
          "output_type": "stream",
          "text": [
            "{\n",
            "    \"skills\": [\n",
            "        \"Python\",\n",
            "        \"SQL\",\n",
            "        \"Java\",\n",
            "        \"C\",\n",
            "        \"Matillion\",\n",
            "        \"DBT\",\n",
            "        \"Airflow\",\n",
            "        \"Hadoop\",\n",
            "        \"Spark\",\n",
            "        \"Snowflake\",\n",
            "        \"SQL Server\",\n",
            "        \"MySQL\",\n",
            "        \"PostgreSQL\",\n",
            "        \"Docker\",\n",
            "        \"Kubernetes\",\n",
            "        \"Jenkins\",\n",
            "        \"Git\",\n",
            "        \"GitHub\",\n",
            "        \"Pandas\",\n",
            "        \"NumPy\",\n",
            "        \"SciPy\",\n",
            "        \"Scikit-learn\",\n",
            "        \"TensorFlow\",\n",
            "        \"PyTorch\",\n",
            "        \"Tableau\",\n",
            "        \"PowerBI\",\n",
            "        \"Plotly\",\n",
            "        \"Seaborn\",\n",
            "        \"Flask\",\n",
            "        \"React\",\n",
            "        \"Node\",\n",
            "        \"HTML\",\n",
            "        \"CSS\",\n",
            "        \"Jira\",\n",
            "        \"Scrum\",\n",
            "        \"Kanban\",\n",
            "        \"Lean\"\n",
            "    ],\n",
            "    \"experience_summary\": \"Data engineer and cloud analyst with experience in end-to-end data processing, migration, and ETL. Proficient in Matillion, DBT, Airflow, Snowflake, SQL, Python, Apache Spark, and data warehousing and databases.\",\n",
            "    \"years_of_experience\": 2,\n",
            "    \"previous_job_titles\": [\n",
            "        \"Associate Data Engineer\",\n",
            "        \"Cloud Analyst\"\n",
            "    ]\n",
            "}\n"
          ]
        }
      ],
      "source": [
        "import json\n",
        "from openai import OpenAI\n",
        "\n",
        "# Initialize Hugging Face Mistral API using OpenAI-compatible structure\n",
        "client = OpenAI(\n",
        "    base_url=\"https://gj53iine8b0i8nmr.us-east-1.aws.endpoints.huggingface.cloud/v1/\",\n",
        "    api_key=\"\"\n",
        ")\n",
        "\n",
        "def parse_resume(cleaned_text):\n",
        "    \"\"\"Extract structured resume data using Mistral API via OpenAI-compatible endpoint.\"\"\"\n",
        "    prompt = f\"\"\"\n",
        "    Extract the following details from the provided resume text.\n",
        "    Extract **only what is available**, and return empty values if missing.\n",
        "    **Keep experience summary super concise.**\n",
        "\n",
        "    **Return JSON format only.**\n",
        "\n",
        "    Extract:\n",
        "    - \"skills\": List of skills across resume seperated by','.\n",
        "    - \"experience_summary\": Super concise work experience summary.\n",
        "    - \"years_of_experience\": Total number of years worked related to experience section most probably you can calculate it will be near to job.\n",
        "    - \"previous_job_titles\": List of past job titles.\n",
        "\n",
        "    Resume Text:\n",
        "    {cleaned_text}\n",
        "\n",
        "    **Output only valid JSON. Example:**\n",
        "    {{\n",
        "        \"skills\": [\"list\", \"of\",\"all\", \"technical\",\"non-technical\",\"soft\", \"skills\",\"accross\", \"resume\",\"just list them\",\"seperated by comma','\"],\n",
        "        \"experience_summary\": \"brief overall summary of work experience (combined across different roles,NOT role-specific, NOT company-specific)...\",\n",
        "        \"years_of_experience\": integer,\n",
        "        \"previous_job_titles\": [\"list\", \"of\", \"previous\", \"roles\"]\n",
        "    }}\n",
        "    \"\"\"\n",
        "\n",
        "    chat_completion = client.chat.completions.create(\n",
        "        model=\"tgi\",\n",
        "        messages=[{\"role\": \"user\", \"content\": prompt}],\n",
        "        max_tokens=500\n",
        "    )\n",
        "\n",
        "    # Extract response text\n",
        "    response = chat_completion.choices[0].message.content\n",
        "\n",
        "    if not response or \"{\" not in response:\n",
        "        raise ValueError(\"Mistral API returned an empty or invalid response.\")\n",
        "\n",
        "    # Extract JSON from response\n",
        "    json_start = response.find(\"{\")\n",
        "    json_end = response.rfind(\"}\") + 1\n",
        "    json_str = response[json_start:json_end]\n",
        "\n",
        "    return json.loads(json_str)\n",
        "\n",
        "# Send cleaned resume text for processing\n",
        "structured_resume = parse_resume(cleaned_resume)\n",
        "\n",
        "# Print extracted structured data\n",
        "print(json.dumps(structured_resume, indent=4))\n"
      ]
    },
    {
      "cell_type": "code",
      "execution_count": null,
      "metadata": {
        "colab": {
          "base_uri": "https://localhost:8080/"
        },
        "id": "dRNwLhQPkl-R",
        "outputId": "da0e49eb-7b51-43e5-ca55-5776c05882d8"
      },
      "outputs": [
        {
          "data": {
            "text/plain": [
              "{'skills': ['Python',\n",
              "  'SQL',\n",
              "  'Java',\n",
              "  'C',\n",
              "  'Matillion',\n",
              "  'DBT',\n",
              "  'Airflow',\n",
              "  'Hadoop',\n",
              "  'Spark',\n",
              "  'Snowflake',\n",
              "  'SQL Server',\n",
              "  'MySQL',\n",
              "  'PostgreSQL',\n",
              "  'Docker',\n",
              "  'Kubernetes',\n",
              "  'Jenkins',\n",
              "  'Git',\n",
              "  'GitHub',\n",
              "  'Pandas',\n",
              "  'NumPy',\n",
              "  'SciPy',\n",
              "  'Scikit-learn',\n",
              "  'TensorFlow',\n",
              "  'PyTorch',\n",
              "  'Tableau',\n",
              "  'PowerBI',\n",
              "  'Plotly',\n",
              "  'Seaborn',\n",
              "  'Flask',\n",
              "  'React',\n",
              "  'Node',\n",
              "  'HTML',\n",
              "  'CSS',\n",
              "  'Jira',\n",
              "  'Scrum',\n",
              "  'Kanban',\n",
              "  'Lean'],\n",
              " 'experience_summary': 'Data engineer and cloud analyst with experience in end-to-end data processing, migration, and ETL. Proficient in Matillion, DBT, Airflow, Snowflake, SQL, Python, Apache Spark, and data warehousing and databases.',\n",
              " 'years_of_experience': 2,\n",
              " 'previous_job_titles': ['Associate Data Engineer', 'Cloud Analyst']}"
            ]
          },
          "execution_count": 59,
          "metadata": {},
          "output_type": "execute_result"
        }
      ],
      "source": [
        "structured_resume"
      ]
    },
    {
      "cell_type": "code",
      "execution_count": null,
      "metadata": {
        "id": "hs0RU4xNnQd7"
      },
      "outputs": [],
      "source": [
        "import numpy as np\n",
        "\n",
        "def create_resume_embedding(structured_resume, glove_embeddings, embedding_dim=100):\n",
        "    \"\"\"\n",
        "    Combines skills and experience summary to create a meaningful text representation.\n",
        "    Generates GloVe embeddings for the resume text.\n",
        "    \"\"\"\n",
        "    # Combine skills and experience summary into a single text\n",
        "    resume_text = \" \".join(structured_resume[\"skills\"]) + \" \" + structured_resume[\"experience_summary\"]\n",
        "\n",
        "    # Generate GloVe embedding for resume text\n",
        "    resume_embedding = get_average_glove_vector(resume_text, glove_embeddings, embedding_dim)\n",
        "\n",
        "    return resume_embedding\n",
        "\n",
        "# Generate Resume Embedding\n",
        "resume_embedding = create_resume_embedding(structured_resume, glove_embeddings, embedding_dim=100)\n"
      ]
    },
    {
      "cell_type": "code",
      "execution_count": null,
      "metadata": {
        "colab": {
          "base_uri": "https://localhost:8080/"
        },
        "id": "EOuL27z3nX_5",
        "outputId": "7ebb0c67-02e2-4832-97da-9656c0fd97d3"
      },
      "outputs": [
        {
          "data": {
            "text/plain": [
              "array([-1.99643418e-01,  1.32040665e-01,  1.59977600e-01, -1.69384688e-01,\n",
              "        2.53064007e-01, -2.39086941e-01, -1.68464690e-01, -8.27152096e-03,\n",
              "       -1.90627441e-01,  1.69569343e-01,  1.54127598e-01, -3.30863208e-01,\n",
              "        1.38134003e-01,  1.36917129e-01,  2.29822129e-01, -1.48099527e-01,\n",
              "        4.23784614e-01,  4.89554666e-02, -1.91212684e-01,  1.15380153e-01,\n",
              "       -1.15878060e-01, -3.90677303e-02,  6.14817977e-01,  1.78011328e-01,\n",
              "        9.44665633e-03, -1.46726474e-01,  9.10630077e-02, -6.24520108e-02,\n",
              "       -2.11689323e-01, -8.95893015e-03, -2.34453827e-01,  3.68491322e-01,\n",
              "       -4.15104359e-01,  4.70858663e-02,  1.13509996e-02,  9.17446837e-02,\n",
              "        1.66983932e-01,  4.54507470e-01,  1.26742661e-01, -2.65792459e-01,\n",
              "       -1.47465974e-01, -5.28786719e-01, -2.23318279e-01, -1.11353531e-01,\n",
              "       -1.31944865e-01, -2.07045320e-02,  2.56679982e-01, -3.79188329e-01,\n",
              "        4.60472070e-02, -4.79145110e-01,  1.17941216e-01, -1.45100360e-03,\n",
              "        5.38558625e-02,  1.10566330e+00,  1.16859578e-01, -2.00316334e+00,\n",
              "        2.66869292e-02, -2.58346528e-01,  1.31041265e+00,  5.04371524e-01,\n",
              "       -1.27569869e-01,  4.02819991e-01, -1.17358334e-01,  1.09459005e-01,\n",
              "        3.78566653e-01, -9.03391317e-02,  5.61274529e-01,  5.81462532e-02,\n",
              "        7.58761704e-01,  7.92123973e-02, -2.31612876e-01, -8.44106004e-02,\n",
              "        1.12289898e-02, -5.23110509e-01,  2.24645719e-01,  7.79658407e-02,\n",
              "        7.07063377e-02,  4.79600811e-03, -5.83290100e-01, -1.54535323e-01,\n",
              "        7.48891652e-01,  3.45249206e-01, -3.94053131e-01,  4.62439537e-01,\n",
              "       -1.12513804e+00, -1.40095398e-01,  2.02901334e-01, -2.26252571e-01,\n",
              "       -1.42721340e-01, -2.37155974e-01,  1.44436091e-01, -1.31981194e-01,\n",
              "       -2.23778322e-01,  1.79403469e-01, -1.26557872e-01,  2.32302696e-01,\n",
              "       -9.06284004e-02, -4.07400459e-01,  3.90610367e-01,  1.36054337e-01],\n",
              "      dtype=float32)"
            ]
          },
          "execution_count": 61,
          "metadata": {},
          "output_type": "execute_result"
        }
      ],
      "source": [
        "resume_embedding"
      ]
    },
    {
      "cell_type": "code",
      "execution_count": null,
      "metadata": {
        "id": "ODzEHsXOoTy4"
      },
      "outputs": [],
      "source": [
        "#copy df\n",
        "df_copy = df.copy()"
      ]
    },
    {
      "cell_type": "code",
      "execution_count": null,
      "metadata": {
        "colab": {
          "base_uri": "https://localhost:8080/",
          "height": 833,
          "referenced_widgets": [
            "bd1ff860d88d4c19a2592ba15d26bb8e",
            "e63f67c7534f43c3ab5114244ee7f019",
            "77f2001fd352431e8e3119b0435f42df",
            "61e67c66e44e424b9792cbbb8b4b03db",
            "0b0b0f1e65044df89d07f847dd3e4f97",
            "28f1da6a0d8f4afb9965d0dcabcfa1f5",
            "4d3ceb8a2eed45ae81a15dfc1fff6acd",
            "925868f5feb140cdb1ccbb3ed6be3187",
            "73d8ca21786f4bdb9db3cfe9ed533608",
            "c4aaf7da595544aea41a0e2a645ccfe9",
            "579f6e6e13544df69288c21325f531c0"
          ]
        },
        "id": "DWuXcHMXnbR0",
        "outputId": "49e0b20f-6f1c-4048-8c73-760c46afafc4"
      },
      "outputs": [
        {
          "data": {
            "application/vnd.jupyter.widget-view+json": {
              "model_id": "bd1ff860d88d4c19a2592ba15d26bb8e",
              "version_major": 2,
              "version_minor": 0
            },
            "text/plain": [
              "SelectMultiple(description='Countries', index=(0,), layout=Layout(width='50%'), options=('Afghanistan', 'Alban…"
            ]
          },
          "metadata": {},
          "output_type": "display_data"
        },
        {
          "data": {
            "application/vnd.jupyter.widget-view+json": {
              "model_id": "61e67c66e44e424b9792cbbb8b4b03db",
              "version_major": 2,
              "version_minor": 0
            },
            "text/plain": [
              "IntSlider(value=5, description='Jobs to show:', max=50, min=1)"
            ]
          },
          "metadata": {},
          "output_type": "display_data"
        },
        {
          "data": {
            "application/vnd.jupyter.widget-view+json": {
              "model_id": "4d3ceb8a2eed45ae81a15dfc1fff6acd",
              "version_major": 2,
              "version_minor": 0
            },
            "text/plain": [
              "Button(button_style='success', description='Get Job Recommendations', style=ButtonStyle())"
            ]
          },
          "metadata": {},
          "output_type": "display_data"
        },
        {
          "data": {
            "application/vnd.jupyter.widget-view+json": {
              "model_id": "c4aaf7da595544aea41a0e2a645ccfe9",
              "version_major": 2,
              "version_minor": 0
            },
            "text/plain": [
              "Output()"
            ]
          },
          "metadata": {},
          "output_type": "display_data"
        }
      ],
      "source": [
        "from sklearn.metrics.pairwise import cosine_similarity\n",
        "import pandas as pd\n",
        "import numpy as np\n",
        "import ipywidgets as widgets\n",
        "from IPython.display import display\n",
        "\n",
        "# Convert job embeddings DataFrame to NumPy array\n",
        "job_embeddings = np.stack(df_copy['glove_embedding'].values)  # Shape: (1615940, 100)\n",
        "\n",
        "# Compute cosine similarity between resume & all job embeddings\n",
        "similarities = cosine_similarity([resume_embedding], job_embeddings)[0]\n",
        "\n",
        "# Add similarity scores to the DataFrame\n",
        "df_copy['similarity_score'] = similarities\n",
        "\n",
        "# UI Components\n",
        "# Multi-select dropdown for country filtering\n",
        "country_options = sorted(df_copy['country'].unique())\n",
        "country_selector = widgets.SelectMultiple(\n",
        "    options=country_options,\n",
        "    value=[country_options[0]],\n",
        "    description='Countries',\n",
        "    layout={'width': '50%'}\n",
        ")\n",
        "\n",
        "# Slider for number of jobs to display\n",
        "num_jobs_slider = widgets.IntSlider(\n",
        "    value=5,\n",
        "    min=1,\n",
        "    max=50,\n",
        "    step=1,\n",
        "    description='Jobs to show:'\n",
        ")\n",
        "\n",
        "# Button to fetch recommendations\n",
        "recommend_button = widgets.Button(\n",
        "    description='Get Job Recommendations',\n",
        "    button_style='success'\n",
        ")\n",
        "\n",
        "# Output widget for displaying results\n",
        "output = widgets.Output()\n",
        "\n",
        "def update_recommendations(b):\n",
        "    with output:\n",
        "        output.clear_output()\n",
        "        selected_countries = list(country_selector.value)\n",
        "        num_jobs = num_jobs_slider.value\n",
        "\n",
        "        # Filter jobs based on selected countries\n",
        "        filtered_jobs = df_sorted[df_sorted['country'].isin(selected_countries)]\n",
        "\n",
        "        # Display top N matching jobs\n",
        "        display(filtered_jobs[['job title','company','qualifications', 'location', 'country','work type',]].head(num_jobs))\n",
        "\n",
        "\n",
        "recommend_button.on_click(update_recommendations)\n",
        "\n",
        "# Display UI\n",
        "display(country_selector, num_jobs_slider, recommend_button, output)"
      ]
    },
    {
      "cell_type": "code",
      "execution_count": null,
      "metadata": {
        "id": "jkJqBf-8Waes"
      },
      "outputs": [],
      "source": []
    }
  ],
  "metadata": {
    "colab": {
      "provenance": []
    },
    "kernelspec": {
      "display_name": "Python 3",
      "name": "python3"
    },
    "language_info": {
      "codemirror_mode": {
        "name": "ipython",
        "version": 3
      },
      "file_extension": ".py",
      "mimetype": "text/x-python",
      "name": "python",
      "nbconvert_exporter": "python",
      "pygments_lexer": "ipython3",
      "version": "3.10.0"
    },
    "widgets": {
      "application/vnd.jupyter.widget-state+json": {
        "0b0b0f1e65044df89d07f847dd3e4f97": {
          "model_module": "@jupyter-widgets/base",
          "model_module_version": "1.2.0",
          "model_name": "LayoutModel",
          "state": {
            "_model_module": "@jupyter-widgets/base",
            "_model_module_version": "1.2.0",
            "_model_name": "LayoutModel",
            "_view_count": null,
            "_view_module": "@jupyter-widgets/base",
            "_view_module_version": "1.2.0",
            "_view_name": "LayoutView",
            "align_content": null,
            "align_items": null,
            "align_self": null,
            "border": null,
            "bottom": null,
            "display": null,
            "flex": null,
            "flex_flow": null,
            "grid_area": null,
            "grid_auto_columns": null,
            "grid_auto_flow": null,
            "grid_auto_rows": null,
            "grid_column": null,
            "grid_gap": null,
            "grid_row": null,
            "grid_template_areas": null,
            "grid_template_columns": null,
            "grid_template_rows": null,
            "height": null,
            "justify_content": null,
            "justify_items": null,
            "left": null,
            "margin": null,
            "max_height": null,
            "max_width": null,
            "min_height": null,
            "min_width": null,
            "object_fit": null,
            "object_position": null,
            "order": null,
            "overflow": null,
            "overflow_x": null,
            "overflow_y": null,
            "padding": null,
            "right": null,
            "top": null,
            "visibility": null,
            "width": null
          }
        },
        "28f1da6a0d8f4afb9965d0dcabcfa1f5": {
          "model_module": "@jupyter-widgets/controls",
          "model_module_version": "1.5.0",
          "model_name": "SliderStyleModel",
          "state": {
            "_model_module": "@jupyter-widgets/controls",
            "_model_module_version": "1.5.0",
            "_model_name": "SliderStyleModel",
            "_view_count": null,
            "_view_module": "@jupyter-widgets/base",
            "_view_module_version": "1.2.0",
            "_view_name": "StyleView",
            "description_width": "",
            "handle_color": null
          }
        },
        "4d3ceb8a2eed45ae81a15dfc1fff6acd": {
          "model_module": "@jupyter-widgets/controls",
          "model_module_version": "1.5.0",
          "model_name": "ButtonModel",
          "state": {
            "_dom_classes": [],
            "_model_module": "@jupyter-widgets/controls",
            "_model_module_version": "1.5.0",
            "_model_name": "ButtonModel",
            "_view_count": null,
            "_view_module": "@jupyter-widgets/controls",
            "_view_module_version": "1.5.0",
            "_view_name": "ButtonView",
            "button_style": "success",
            "description": "Get Job Recommendations",
            "disabled": false,
            "icon": "",
            "layout": "IPY_MODEL_925868f5feb140cdb1ccbb3ed6be3187",
            "style": "IPY_MODEL_73d8ca21786f4bdb9db3cfe9ed533608",
            "tooltip": ""
          }
        },
        "579f6e6e13544df69288c21325f531c0": {
          "model_module": "@jupyter-widgets/base",
          "model_module_version": "1.2.0",
          "model_name": "LayoutModel",
          "state": {
            "_model_module": "@jupyter-widgets/base",
            "_model_module_version": "1.2.0",
            "_model_name": "LayoutModel",
            "_view_count": null,
            "_view_module": "@jupyter-widgets/base",
            "_view_module_version": "1.2.0",
            "_view_name": "LayoutView",
            "align_content": null,
            "align_items": null,
            "align_self": null,
            "border": null,
            "bottom": null,
            "display": null,
            "flex": null,
            "flex_flow": null,
            "grid_area": null,
            "grid_auto_columns": null,
            "grid_auto_flow": null,
            "grid_auto_rows": null,
            "grid_column": null,
            "grid_gap": null,
            "grid_row": null,
            "grid_template_areas": null,
            "grid_template_columns": null,
            "grid_template_rows": null,
            "height": null,
            "justify_content": null,
            "justify_items": null,
            "left": null,
            "margin": null,
            "max_height": null,
            "max_width": null,
            "min_height": null,
            "min_width": null,
            "object_fit": null,
            "object_position": null,
            "order": null,
            "overflow": null,
            "overflow_x": null,
            "overflow_y": null,
            "padding": null,
            "right": null,
            "top": null,
            "visibility": null,
            "width": null
          }
        },
        "61e67c66e44e424b9792cbbb8b4b03db": {
          "model_module": "@jupyter-widgets/controls",
          "model_module_version": "1.5.0",
          "model_name": "IntSliderModel",
          "state": {
            "_dom_classes": [],
            "_model_module": "@jupyter-widgets/controls",
            "_model_module_version": "1.5.0",
            "_model_name": "IntSliderModel",
            "_view_count": null,
            "_view_module": "@jupyter-widgets/controls",
            "_view_module_version": "1.5.0",
            "_view_name": "IntSliderView",
            "continuous_update": true,
            "description": "Jobs to show:",
            "description_tooltip": null,
            "disabled": false,
            "layout": "IPY_MODEL_0b0b0f1e65044df89d07f847dd3e4f97",
            "max": 50,
            "min": 1,
            "orientation": "horizontal",
            "readout": true,
            "readout_format": "d",
            "step": 1,
            "style": "IPY_MODEL_28f1da6a0d8f4afb9965d0dcabcfa1f5",
            "value": 20
          }
        },
        "73d8ca21786f4bdb9db3cfe9ed533608": {
          "model_module": "@jupyter-widgets/controls",
          "model_module_version": "1.5.0",
          "model_name": "ButtonStyleModel",
          "state": {
            "_model_module": "@jupyter-widgets/controls",
            "_model_module_version": "1.5.0",
            "_model_name": "ButtonStyleModel",
            "_view_count": null,
            "_view_module": "@jupyter-widgets/base",
            "_view_module_version": "1.2.0",
            "_view_name": "StyleView",
            "button_color": null,
            "font_weight": ""
          }
        },
        "77f2001fd352431e8e3119b0435f42df": {
          "model_module": "@jupyter-widgets/controls",
          "model_module_version": "1.5.0",
          "model_name": "DescriptionStyleModel",
          "state": {
            "_model_module": "@jupyter-widgets/controls",
            "_model_module_version": "1.5.0",
            "_model_name": "DescriptionStyleModel",
            "_view_count": null,
            "_view_module": "@jupyter-widgets/base",
            "_view_module_version": "1.2.0",
            "_view_name": "StyleView",
            "description_width": ""
          }
        },
        "925868f5feb140cdb1ccbb3ed6be3187": {
          "model_module": "@jupyter-widgets/base",
          "model_module_version": "1.2.0",
          "model_name": "LayoutModel",
          "state": {
            "_model_module": "@jupyter-widgets/base",
            "_model_module_version": "1.2.0",
            "_model_name": "LayoutModel",
            "_view_count": null,
            "_view_module": "@jupyter-widgets/base",
            "_view_module_version": "1.2.0",
            "_view_name": "LayoutView",
            "align_content": null,
            "align_items": null,
            "align_self": null,
            "border": null,
            "bottom": null,
            "display": null,
            "flex": null,
            "flex_flow": null,
            "grid_area": null,
            "grid_auto_columns": null,
            "grid_auto_flow": null,
            "grid_auto_rows": null,
            "grid_column": null,
            "grid_gap": null,
            "grid_row": null,
            "grid_template_areas": null,
            "grid_template_columns": null,
            "grid_template_rows": null,
            "height": null,
            "justify_content": null,
            "justify_items": null,
            "left": null,
            "margin": null,
            "max_height": null,
            "max_width": null,
            "min_height": null,
            "min_width": null,
            "object_fit": null,
            "object_position": null,
            "order": null,
            "overflow": null,
            "overflow_x": null,
            "overflow_y": null,
            "padding": null,
            "right": null,
            "top": null,
            "visibility": null,
            "width": null
          }
        },
        "bd1ff860d88d4c19a2592ba15d26bb8e": {
          "model_module": "@jupyter-widgets/controls",
          "model_module_version": "1.5.0",
          "model_name": "SelectMultipleModel",
          "state": {
            "_dom_classes": [],
            "_model_module": "@jupyter-widgets/controls",
            "_model_module_version": "1.5.0",
            "_model_name": "SelectMultipleModel",
            "_options_labels": [
              "Afghanistan",
              "Albania",
              "Algeria",
              "American Samoa",
              "Andorra",
              "Angola",
              "Antigua and Barbuda",
              "Argentina",
              "Armenia",
              "Aruba",
              "Australia",
              "Austria",
              "Azerbaijan",
              "Bahamas, The",
              "Bahrain",
              "Bangladesh",
              "Barbados",
              "Belarus",
              "Belgium",
              "Belize",
              "Benin",
              "Bermuda",
              "Bhutan",
              "Bolivia",
              "Bosnia and Herzegovina",
              "Botswana",
              "Brazil",
              "British Virgin Islands",
              "Brunei",
              "Bulgaria",
              "Burkina Faso",
              "Burundi",
              "Cabo Verde",
              "Cambodia",
              "Cameroon",
              "Canada",
              "Cayman Islands",
              "Central African Republic",
              "Chad",
              "Chile",
              "China",
              "Colombia",
              "Comoros",
              "Costa Rica",
              "Cote d'Ivoire",
              "Croatia",
              "Cuba",
              "Curacao",
              "Cyprus",
              "Czech Republic",
              "Democratic Republic Of Congo",
              "Denmark",
              "Djibouti",
              "Dominica",
              "Dominican Republic",
              "Ecuador",
              "Egypt",
              "El Salvador",
              "Equatorial Guinea",
              "Eritrea",
              "Estonia",
              "Eswatini",
              "Ethiopia",
              "Faroe Islands",
              "Fiji",
              "Finland",
              "France",
              "French Polynesia",
              "Gabon",
              "Gambia",
              "Georgia",
              "Germany",
              "Ghana",
              "Gibraltar",
              "Greece",
              "Greenland",
              "Grenada",
              "Guam",
              "Guatemala",
              "Guinea",
              "Guinea-Bissau",
              "Guyana",
              "Haiti",
              "Honduras",
              "Hong Kong SAR, China",
              "Hungary",
              "Iceland",
              "India",
              "Indonesia",
              "Iran, Islamic Rep.",
              "Iraq",
              "Ireland",
              "Isle of Man",
              "Israel",
              "Italy",
              "Jamaica",
              "Japan",
              "Jordan",
              "Kazakhstan",
              "Kenya",
              "Kiribati",
              "Korea, Rep.",
              "Kosovo",
              "Kuwait",
              "Kyrgyz Republic",
              "Lao PDR",
              "Latvia",
              "Lebanon",
              "Lesotho",
              "Liberia",
              "Libya",
              "Liechtenstein",
              "Lithuania",
              "Luxembourg",
              "Macao SAR, China",
              "Macedonia, FYR",
              "Madagascar",
              "Malawi",
              "Malaysia",
              "Maldives",
              "Mali",
              "Malta",
              "Marshall Islands",
              "Mauritania",
              "Mauritius",
              "Mexico",
              "Micronesia, Fed. Sts.",
              "Moldova",
              "Monaco",
              "Mongolia",
              "Montenegro",
              "Morocco",
              "Mozambique",
              "Myanmar",
              "Namibia",
              "Nauru",
              "Nepal",
              "Netherlands",
              "New Caledonia",
              "New Zealand",
              "Nicaragua",
              "Niger",
              "Nigeria",
              "North Korea",
              "Northern Mariana Islands",
              "Norway",
              "Oman",
              "Pakistan",
              "Palau",
              "Panama",
              "Papua New Guinea",
              "Paraguay",
              "Peru",
              "Philippines",
              "Poland",
              "Portugal",
              "Puerto Rico",
              "Qatar",
              "Republic Of Congo",
              "Romania",
              "Russia",
              "Rwanda",
              "Samoa",
              "San Marino",
              "Sao Tome and Principe",
              "Saudi Arabia",
              "Senegal",
              "Serbia",
              "Seychelles",
              "Sierra Leone",
              "Singapore",
              "Sint Maarten (Dutch part)",
              "Slovak Republic",
              "Slovenia",
              "Solomon Islands",
              "Somalia",
              "South Africa",
              "South Sudan",
              "Spain",
              "Sri Lanka",
              "St. Kitts and Nevis",
              "St. Lucia",
              "St. Martin (French part)",
              "St. Vincent and the Grenadines",
              "Sudan",
              "Suriname",
              "Sweden",
              "Switzerland",
              "Syrian Arab Republic",
              "Tajikistan",
              "Tanzania",
              "Thailand",
              "Timor-Leste",
              "Togo",
              "Tonga",
              "Trinidad and Tobago",
              "Tunisia",
              "Turkey",
              "Turkmenistan",
              "Turks and Caicos Islands",
              "Tuvalu",
              "UAE",
              "UK",
              "USA",
              "Uganda",
              "Ukraine",
              "Uruguay",
              "Uzbekistan",
              "Vanuatu",
              "Venezuela, RB",
              "Vietnam",
              "Virgin Islands (U.S.)",
              "West Bank and Gaza",
              "Yemen",
              "Zambia",
              "Zimbabwe"
            ],
            "_view_count": null,
            "_view_module": "@jupyter-widgets/controls",
            "_view_module_version": "1.5.0",
            "_view_name": "SelectMultipleView",
            "description": "Countries",
            "description_tooltip": null,
            "disabled": false,
            "index": [
              35
            ],
            "layout": "IPY_MODEL_e63f67c7534f43c3ab5114244ee7f019",
            "rows": 5,
            "style": "IPY_MODEL_77f2001fd352431e8e3119b0435f42df"
          }
        },
        "c4aaf7da595544aea41a0e2a645ccfe9": {
          "model_module": "@jupyter-widgets/output",
          "model_module_version": "1.0.0",
          "model_name": "OutputModel",
          "state": {
            "_dom_classes": [],
            "_model_module": "@jupyter-widgets/output",
            "_model_module_version": "1.0.0",
            "_model_name": "OutputModel",
            "_view_count": null,
            "_view_module": "@jupyter-widgets/output",
            "_view_module_version": "1.0.0",
            "_view_name": "OutputView",
            "layout": "IPY_MODEL_579f6e6e13544df69288c21325f531c0",
            "msg_id": "",
            "outputs": [
              {
                "data": {
                  "application/vnd.google.colaboratory.intrinsic+json": {
                    "summary": "{\n  \"name\": \"display(country_selector, num_jobs_slider, recommend_button, output)\",\n  \"rows\": 20,\n  \"fields\": [\n    {\n      \"column\": \"job title\",\n      \"properties\": {\n        \"dtype\": \"category\",\n        \"num_unique_values\": 2,\n        \"samples\": [\n          \"Systems Engineer\",\n          \"Data Engineer\"\n        ],\n        \"semantic_type\": \"\",\n        \"description\": \"\"\n      }\n    },\n    {\n      \"column\": \"company\",\n      \"properties\": {\n        \"dtype\": \"string\",\n        \"num_unique_values\": 19,\n        \"samples\": [\n          \"TravelCenters of America\",\n          \"Etsy, Inc.\"\n        ],\n        \"semantic_type\": \"\",\n        \"description\": \"\"\n      }\n    },\n    {\n      \"column\": \"qualifications\",\n      \"properties\": {\n        \"dtype\": \"string\",\n        \"num_unique_values\": 10,\n        \"samples\": [\n          \"bba\",\n          \"bca\"\n        ],\n        \"semantic_type\": \"\",\n        \"description\": \"\"\n      }\n    },\n    {\n      \"column\": \"location\",\n      \"properties\": {\n        \"dtype\": \"category\",\n        \"num_unique_values\": 1,\n        \"samples\": [\n          \"Ottawa\"\n        ],\n        \"semantic_type\": \"\",\n        \"description\": \"\"\n      }\n    },\n    {\n      \"column\": \"country\",\n      \"properties\": {\n        \"dtype\": \"category\",\n        \"num_unique_values\": 1,\n        \"samples\": [\n          \"Canada\"\n        ],\n        \"semantic_type\": \"\",\n        \"description\": \"\"\n      }\n    },\n    {\n      \"column\": \"work type\",\n      \"properties\": {\n        \"dtype\": \"category\",\n        \"num_unique_values\": 5,\n        \"samples\": [\n          \"Intern\"\n        ],\n        \"semantic_type\": \"\",\n        \"description\": \"\"\n      }\n    }\n  ]\n}",
                    "type": "dataframe"
                  },
                  "text/html": "\n  <div id=\"df-96f8b811-6a3f-413d-aee6-36cbce65bac5\" class=\"colab-df-container\">\n    <div>\n<style scoped>\n    .dataframe tbody tr th:only-of-type {\n        vertical-align: middle;\n    }\n\n    .dataframe tbody tr th {\n        vertical-align: top;\n    }\n\n    .dataframe thead th {\n        text-align: right;\n    }\n</style>\n<table border=\"1\" class=\"dataframe\">\n  <thead>\n    <tr style=\"text-align: right;\">\n      <th></th>\n      <th>job title</th>\n      <th>company</th>\n      <th>qualifications</th>\n      <th>location</th>\n      <th>country</th>\n      <th>work type</th>\n    </tr>\n  </thead>\n  <tbody>\n    <tr>\n      <th>1424183</th>\n      <td>Data Engineer</td>\n      <td>TravelCenters of America</td>\n      <td>ba</td>\n      <td>Ottawa</td>\n      <td>Canada</td>\n      <td>Temporary</td>\n    </tr>\n    <tr>\n      <th>604207</th>\n      <td>Data Engineer</td>\n      <td>American Tower</td>\n      <td>bca</td>\n      <td>Ottawa</td>\n      <td>Canada</td>\n      <td>Intern</td>\n    </tr>\n    <tr>\n      <th>558018</th>\n      <td>Data Engineer</td>\n      <td>Kinder Morgan</td>\n      <td>mtech</td>\n      <td>Ottawa</td>\n      <td>Canada</td>\n      <td>Full-Time</td>\n    </tr>\n    <tr>\n      <th>979929</th>\n      <td>Data Engineer</td>\n      <td>Bayer AG</td>\n      <td>ba</td>\n      <td>Ottawa</td>\n      <td>Canada</td>\n      <td>Full-Time</td>\n    </tr>\n    <tr>\n      <th>218499</th>\n      <td>Data Engineer</td>\n      <td>Hess</td>\n      <td>mcom</td>\n      <td>Ottawa</td>\n      <td>Canada</td>\n      <td>Contract</td>\n    </tr>\n    <tr>\n      <th>979424</th>\n      <td>Data Engineer</td>\n      <td>Etsy, Inc.</td>\n      <td>mba</td>\n      <td>Ottawa</td>\n      <td>Canada</td>\n      <td>Part-Time</td>\n    </tr>\n    <tr>\n      <th>397312</th>\n      <td>Data Engineer</td>\n      <td>Midea Group</td>\n      <td>mtech</td>\n      <td>Ottawa</td>\n      <td>Canada</td>\n      <td>Contract</td>\n    </tr>\n    <tr>\n      <th>1204849</th>\n      <td>Data Engineer</td>\n      <td>American Electric Power</td>\n      <td>bca</td>\n      <td>Ottawa</td>\n      <td>Canada</td>\n      <td>Full-Time</td>\n    </tr>\n    <tr>\n      <th>169068</th>\n      <td>Data Engineer</td>\n      <td>Corning</td>\n      <td>ba</td>\n      <td>Ottawa</td>\n      <td>Canada</td>\n      <td>Part-Time</td>\n    </tr>\n    <tr>\n      <th>398163</th>\n      <td>Data Engineer</td>\n      <td>Loews</td>\n      <td>phd</td>\n      <td>Ottawa</td>\n      <td>Canada</td>\n      <td>Intern</td>\n    </tr>\n    <tr>\n      <th>1518273</th>\n      <td>Data Engineer</td>\n      <td>World Fuel Services</td>\n      <td>mca</td>\n      <td>Ottawa</td>\n      <td>Canada</td>\n      <td>Full-Time</td>\n    </tr>\n    <tr>\n      <th>1406343</th>\n      <td>Data Engineer</td>\n      <td>The Hershey Company</td>\n      <td>bcom</td>\n      <td>Ottawa</td>\n      <td>Canada</td>\n      <td>Intern</td>\n    </tr>\n    <tr>\n      <th>928921</th>\n      <td>Data Engineer</td>\n      <td>AutoZone</td>\n      <td>bba</td>\n      <td>Ottawa</td>\n      <td>Canada</td>\n      <td>Temporary</td>\n    </tr>\n    <tr>\n      <th>304680</th>\n      <td>Data Engineer</td>\n      <td>Ross Stores</td>\n      <td>bba</td>\n      <td>Ottawa</td>\n      <td>Canada</td>\n      <td>Temporary</td>\n    </tr>\n    <tr>\n      <th>844544</th>\n      <td>Data Engineer</td>\n      <td>Equinix</td>\n      <td>bca</td>\n      <td>Ottawa</td>\n      <td>Canada</td>\n      <td>Contract</td>\n    </tr>\n    <tr>\n      <th>276415</th>\n      <td>Data Engineer</td>\n      <td>Huntsman</td>\n      <td>bca</td>\n      <td>Ottawa</td>\n      <td>Canada</td>\n      <td>Contract</td>\n    </tr>\n    <tr>\n      <th>441182</th>\n      <td>Data Engineer</td>\n      <td>Osram Licht AG (Now part of ams AG)</td>\n      <td>mca</td>\n      <td>Ottawa</td>\n      <td>Canada</td>\n      <td>Intern</td>\n    </tr>\n    <tr>\n      <th>692024</th>\n      <td>Systems Engineer</td>\n      <td>Western &amp; Southern Financial Group</td>\n      <td>mcom</td>\n      <td>Ottawa</td>\n      <td>Canada</td>\n      <td>Temporary</td>\n    </tr>\n    <tr>\n      <th>1091763</th>\n      <td>Systems Engineer</td>\n      <td>Page Industries</td>\n      <td>bcom</td>\n      <td>Ottawa</td>\n      <td>Canada</td>\n      <td>Intern</td>\n    </tr>\n    <tr>\n      <th>125928</th>\n      <td>Systems Engineer</td>\n      <td>Bayer AG</td>\n      <td>btech</td>\n      <td>Ottawa</td>\n      <td>Canada</td>\n      <td>Part-Time</td>\n    </tr>\n  </tbody>\n</table>\n</div>\n    <div class=\"colab-df-buttons\">\n\n  <div class=\"colab-df-container\">\n    <button class=\"colab-df-convert\" onclick=\"convertToInteractive('df-96f8b811-6a3f-413d-aee6-36cbce65bac5')\"\n            title=\"Convert this dataframe to an interactive table.\"\n            style=\"display:none;\">\n\n  <svg xmlns=\"http://www.w3.org/2000/svg\" height=\"24px\" viewBox=\"0 -960 960 960\">\n    <path d=\"M120-120v-720h720v720H120Zm60-500h600v-160H180v160Zm220 220h160v-160H400v160Zm0 220h160v-160H400v160ZM180-400h160v-160H180v160Zm440 0h160v-160H620v160ZM180-180h160v-160H180v160Zm440 0h160v-160H620v160Z\"/>\n  </svg>\n    </button>\n\n  <style>\n    .colab-df-container {\n      display:flex;\n      gap: 12px;\n    }\n\n    .colab-df-convert {\n      background-color: #E8F0FE;\n      border: none;\n      border-radius: 50%;\n      cursor: pointer;\n      display: none;\n      fill: #1967D2;\n      height: 32px;\n      padding: 0 0 0 0;\n      width: 32px;\n    }\n\n    .colab-df-convert:hover {\n      background-color: #E2EBFA;\n      box-shadow: 0px 1px 2px rgba(60, 64, 67, 0.3), 0px 1px 3px 1px rgba(60, 64, 67, 0.15);\n      fill: #174EA6;\n    }\n\n    .colab-df-buttons div {\n      margin-bottom: 4px;\n    }\n\n    [theme=dark] .colab-df-convert {\n      background-color: #3B4455;\n      fill: #D2E3FC;\n    }\n\n    [theme=dark] .colab-df-convert:hover {\n      background-color: #434B5C;\n      box-shadow: 0px 1px 3px 1px rgba(0, 0, 0, 0.15);\n      filter: drop-shadow(0px 1px 2px rgba(0, 0, 0, 0.3));\n      fill: #FFFFFF;\n    }\n  </style>\n\n    <script>\n      const buttonEl =\n        document.querySelector('#df-96f8b811-6a3f-413d-aee6-36cbce65bac5 button.colab-df-convert');\n      buttonEl.style.display =\n        google.colab.kernel.accessAllowed ? 'block' : 'none';\n\n      async function convertToInteractive(key) {\n        const element = document.querySelector('#df-96f8b811-6a3f-413d-aee6-36cbce65bac5');\n        const dataTable =\n          await google.colab.kernel.invokeFunction('convertToInteractive',\n                                                    [key], {});\n        if (!dataTable) return;\n\n        const docLinkHtml = 'Like what you see? Visit the ' +\n          '<a target=\"_blank\" href=https://colab.research.google.com/notebooks/data_table.ipynb>data table notebook</a>'\n          + ' to learn more about interactive tables.';\n        element.innerHTML = '';\n        dataTable['output_type'] = 'display_data';\n        await google.colab.output.renderOutput(dataTable, element);\n        const docLink = document.createElement('div');\n        docLink.innerHTML = docLinkHtml;\n        element.appendChild(docLink);\n      }\n    </script>\n  </div>\n\n\n<div id=\"df-d9d0da09-1d41-4532-8120-717eef508955\">\n  <button class=\"colab-df-quickchart\" onclick=\"quickchart('df-d9d0da09-1d41-4532-8120-717eef508955')\"\n            title=\"Suggest charts\"\n            style=\"display:none;\">\n\n<svg xmlns=\"http://www.w3.org/2000/svg\" height=\"24px\"viewBox=\"0 0 24 24\"\n     width=\"24px\">\n    <g>\n        <path d=\"M19 3H5c-1.1 0-2 .9-2 2v14c0 1.1.9 2 2 2h14c1.1 0 2-.9 2-2V5c0-1.1-.9-2-2-2zM9 17H7v-7h2v7zm4 0h-2V7h2v10zm4 0h-2v-4h2v4z\"/>\n    </g>\n</svg>\n  </button>\n\n<style>\n  .colab-df-quickchart {\n      --bg-color: #E8F0FE;\n      --fill-color: #1967D2;\n      --hover-bg-color: #E2EBFA;\n      --hover-fill-color: #174EA6;\n      --disabled-fill-color: #AAA;\n      --disabled-bg-color: #DDD;\n  }\n\n  [theme=dark] .colab-df-quickchart {\n      --bg-color: #3B4455;\n      --fill-color: #D2E3FC;\n      --hover-bg-color: #434B5C;\n      --hover-fill-color: #FFFFFF;\n      --disabled-bg-color: #3B4455;\n      --disabled-fill-color: #666;\n  }\n\n  .colab-df-quickchart {\n    background-color: var(--bg-color);\n    border: none;\n    border-radius: 50%;\n    cursor: pointer;\n    display: none;\n    fill: var(--fill-color);\n    height: 32px;\n    padding: 0;\n    width: 32px;\n  }\n\n  .colab-df-quickchart:hover {\n    background-color: var(--hover-bg-color);\n    box-shadow: 0 1px 2px rgba(60, 64, 67, 0.3), 0 1px 3px 1px rgba(60, 64, 67, 0.15);\n    fill: var(--button-hover-fill-color);\n  }\n\n  .colab-df-quickchart-complete:disabled,\n  .colab-df-quickchart-complete:disabled:hover {\n    background-color: var(--disabled-bg-color);\n    fill: var(--disabled-fill-color);\n    box-shadow: none;\n  }\n\n  .colab-df-spinner {\n    border: 2px solid var(--fill-color);\n    border-color: transparent;\n    border-bottom-color: var(--fill-color);\n    animation:\n      spin 1s steps(1) infinite;\n  }\n\n  @keyframes spin {\n    0% {\n      border-color: transparent;\n      border-bottom-color: var(--fill-color);\n      border-left-color: var(--fill-color);\n    }\n    20% {\n      border-color: transparent;\n      border-left-color: var(--fill-color);\n      border-top-color: var(--fill-color);\n    }\n    30% {\n      border-color: transparent;\n      border-left-color: var(--fill-color);\n      border-top-color: var(--fill-color);\n      border-right-color: var(--fill-color);\n    }\n    40% {\n      border-color: transparent;\n      border-right-color: var(--fill-color);\n      border-top-color: var(--fill-color);\n    }\n    60% {\n      border-color: transparent;\n      border-right-color: var(--fill-color);\n    }\n    80% {\n      border-color: transparent;\n      border-right-color: var(--fill-color);\n      border-bottom-color: var(--fill-color);\n    }\n    90% {\n      border-color: transparent;\n      border-bottom-color: var(--fill-color);\n    }\n  }\n</style>\n\n  <script>\n    async function quickchart(key) {\n      const quickchartButtonEl =\n        document.querySelector('#' + key + ' button');\n      quickchartButtonEl.disabled = true;  // To prevent multiple clicks.\n      quickchartButtonEl.classList.add('colab-df-spinner');\n      try {\n        const charts = await google.colab.kernel.invokeFunction(\n            'suggestCharts', [key], {});\n      } catch (error) {\n        console.error('Error during call to suggestCharts:', error);\n      }\n      quickchartButtonEl.classList.remove('colab-df-spinner');\n      quickchartButtonEl.classList.add('colab-df-quickchart-complete');\n    }\n    (() => {\n      let quickchartButtonEl =\n        document.querySelector('#df-d9d0da09-1d41-4532-8120-717eef508955 button');\n      quickchartButtonEl.style.display =\n        google.colab.kernel.accessAllowed ? 'block' : 'none';\n    })();\n  </script>\n</div>\n\n    </div>\n  </div>\n",
                  "text/plain": "                job title                              company qualifications  \\\n1424183     Data Engineer             TravelCenters of America             ba   \n604207      Data Engineer                       American Tower            bca   \n558018      Data Engineer                        Kinder Morgan          mtech   \n979929      Data Engineer                             Bayer AG             ba   \n218499      Data Engineer                                 Hess           mcom   \n979424      Data Engineer                           Etsy, Inc.            mba   \n397312      Data Engineer                          Midea Group          mtech   \n1204849     Data Engineer              American Electric Power            bca   \n169068      Data Engineer                              Corning             ba   \n398163      Data Engineer                                Loews            phd   \n1518273     Data Engineer                  World Fuel Services            mca   \n1406343     Data Engineer                  The Hershey Company           bcom   \n928921      Data Engineer                             AutoZone            bba   \n304680      Data Engineer                          Ross Stores            bba   \n844544      Data Engineer                              Equinix            bca   \n276415      Data Engineer                             Huntsman            bca   \n441182      Data Engineer  Osram Licht AG (Now part of ams AG)            mca   \n692024   Systems Engineer   Western & Southern Financial Group           mcom   \n1091763  Systems Engineer                      Page Industries           bcom   \n125928   Systems Engineer                             Bayer AG          btech   \n\n        location country  work type  \n1424183   Ottawa  Canada  Temporary  \n604207    Ottawa  Canada     Intern  \n558018    Ottawa  Canada  Full-Time  \n979929    Ottawa  Canada  Full-Time  \n218499    Ottawa  Canada   Contract  \n979424    Ottawa  Canada  Part-Time  \n397312    Ottawa  Canada   Contract  \n1204849   Ottawa  Canada  Full-Time  \n169068    Ottawa  Canada  Part-Time  \n398163    Ottawa  Canada     Intern  \n1518273   Ottawa  Canada  Full-Time  \n1406343   Ottawa  Canada     Intern  \n928921    Ottawa  Canada  Temporary  \n304680    Ottawa  Canada  Temporary  \n844544    Ottawa  Canada   Contract  \n276415    Ottawa  Canada   Contract  \n441182    Ottawa  Canada     Intern  \n692024    Ottawa  Canada  Temporary  \n1091763   Ottawa  Canada     Intern  \n125928    Ottawa  Canada  Part-Time  "
                },
                "metadata": {},
                "output_type": "display_data"
              }
            ]
          }
        },
        "e63f67c7534f43c3ab5114244ee7f019": {
          "model_module": "@jupyter-widgets/base",
          "model_module_version": "1.2.0",
          "model_name": "LayoutModel",
          "state": {
            "_model_module": "@jupyter-widgets/base",
            "_model_module_version": "1.2.0",
            "_model_name": "LayoutModel",
            "_view_count": null,
            "_view_module": "@jupyter-widgets/base",
            "_view_module_version": "1.2.0",
            "_view_name": "LayoutView",
            "align_content": null,
            "align_items": null,
            "align_self": null,
            "border": null,
            "bottom": null,
            "display": null,
            "flex": null,
            "flex_flow": null,
            "grid_area": null,
            "grid_auto_columns": null,
            "grid_auto_flow": null,
            "grid_auto_rows": null,
            "grid_column": null,
            "grid_gap": null,
            "grid_row": null,
            "grid_template_areas": null,
            "grid_template_columns": null,
            "grid_template_rows": null,
            "height": null,
            "justify_content": null,
            "justify_items": null,
            "left": null,
            "margin": null,
            "max_height": null,
            "max_width": null,
            "min_height": null,
            "min_width": null,
            "object_fit": null,
            "object_position": null,
            "order": null,
            "overflow": null,
            "overflow_x": null,
            "overflow_y": null,
            "padding": null,
            "right": null,
            "top": null,
            "visibility": null,
            "width": "50%"
          }
        }
      }
    }
  },
  "nbformat": 4,
  "nbformat_minor": 0
}
